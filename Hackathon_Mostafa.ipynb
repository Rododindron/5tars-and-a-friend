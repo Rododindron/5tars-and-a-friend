{
 "cells": [
  {
   "cell_type": "markdown",
   "metadata": {},
   "source": [
    "# Hackathon\n",
    "\n",
    "Some utilities"
   ]
  },
  {
   "cell_type": "markdown",
   "metadata": {},
   "source": [
    "## Import Utils"
   ]
  },
  {
   "cell_type": "code",
   "execution_count": 1,
   "metadata": {},
   "outputs": [
    {
     "name": "stdout",
     "output_type": "stream",
     "text": [
      "Requirement already up-to-date: pip in /usr/local/lib/python3.5/dist-packages\r\n"
     ]
    }
   ],
   "source": [
    "!pip install --upgrade pip"
   ]
  },
  {
   "cell_type": "code",
   "execution_count": 2,
   "metadata": {},
   "outputs": [
    {
     "name": "stdout",
     "output_type": "stream",
     "text": [
      "Requirement already satisfied: tables in /usr/local/lib/python3.5/dist-packages\r\n",
      "Requirement already satisfied: numpy>=1.8.0 in /usr/local/lib/python3.5/dist-packages (from tables)\r\n",
      "Requirement already satisfied: six>=1.9.0 in /usr/local/lib/python3.5/dist-packages (from tables)\r\n",
      "Requirement already satisfied: numexpr>=2.5.2 in /usr/local/lib/python3.5/dist-packages (from tables)\r\n"
     ]
    }
   ],
   "source": [
    "! pip install tables"
   ]
  },
  {
   "cell_type": "code",
   "execution_count": 3,
   "metadata": {},
   "outputs": [
    {
     "name": "stdout",
     "output_type": "stream",
     "text": [
      "Requirement already satisfied: keras in /usr/local/lib/python3.5/dist-packages\r\n",
      "Requirement already satisfied: numpy>=1.9.1 in /usr/local/lib/python3.5/dist-packages (from keras)\r\n",
      "Requirement already satisfied: scipy>=0.14 in /usr/local/lib/python3.5/dist-packages (from keras)\r\n",
      "Requirement already satisfied: pyyaml in /usr/local/lib/python3.5/dist-packages (from keras)\r\n",
      "Requirement already satisfied: six>=1.9.0 in /usr/local/lib/python3.5/dist-packages (from keras)\r\n"
     ]
    }
   ],
   "source": [
    "!pip install keras"
   ]
  },
  {
   "cell_type": "code",
   "execution_count": 4,
   "metadata": {},
   "outputs": [
    {
     "name": "stderr",
     "output_type": "stream",
     "text": [
      "/usr/local/lib/python3.5/dist-packages/h5py/__init__.py:36: FutureWarning: Conversion of the second argument of issubdtype from `float` to `np.floating` is deprecated. In future, it will be treated as `np.float64 == np.dtype(float).type`.\n",
      "  from ._conv import register_converters as _register_converters\n",
      "Using TensorFlow backend.\n"
     ]
    }
   ],
   "source": [
    "import keras\n",
    "import h5py as h5\n",
    "import numpy as np\n",
    "\n",
    "PATH_DATA = '../full.h5'\n",
    "PATH_PREDICT_WITHOUT_GT = '../pred_eighties_from_full_1_without_gt.h5'\n",
    "PATH_SUBMIT = 'pred_from_full_Mostafa_Paul.h5'"
   ]
  },
  {
   "cell_type": "code",
   "execution_count": 5,
   "metadata": {},
   "outputs": [],
   "source": [
    "BATCH_SIZE = 64\n",
    "from keras.models import Sequential\n",
    "from keras.layers import Dense, Flatten, Conv2D, BatchNormalization, Activation, MaxPooling2D\n",
    "import keras.layers.normalization \n",
    "from keras.callbacks import Callback\n",
    "%load_ext autoreload\n",
    "%autoreload 2"
   ]
  },
  {
   "cell_type": "code",
   "execution_count": 6,
   "metadata": {},
   "outputs": [],
   "source": [
    "def get_idxs(h5_path):\n",
    "    f = h5.File(h5_path)\n",
    "    return range(len(f['S2']))\n",
    "\n",
    "def shuffle_idx(sample_idxs):\n",
    "    return list(np.random.permutation(sample_idxs))\n",
    "\n",
    "def split_train_val(sample_idxs, proportion):\n",
    "    n_samples = len(sample_idxs)\n",
    "    return sample_idxs[:int((1.-proportion)*n_samples)], sample_idxs[int((1.-proportion)*n_samples):]\n",
    "\n",
    "def get_batch_count(idxs, batch_size):\n",
    "    batch_count = int(len(idxs)//batch_size)\n",
    "    remained_samples = len(idxs)%batch_size\n",
    "    if remained_samples > 0:\n",
    "        batch_count += 1\n",
    "\n",
    "    return batch_count"
   ]
  },
  {
   "cell_type": "code",
   "execution_count": 7,
   "metadata": {},
   "outputs": [],
   "source": [
    "def generator(h5_path, batch_size, idxs):\n",
    "    f = h5.File(h5_path, 'r')\n",
    "    idxs = shuffle_idx(idxs)\n",
    "    while True : \n",
    "        rd = np.random.randint(len(idxs)-10000)\n",
    "        my_idxs = shuffle_idx(idxs[rd:rd+10000])\n",
    "        batch_count = get_batch_count(my_idxs, batch_size)\n",
    "        for b in range(batch_count):\n",
    "            batch_idxs = my_idxs[b*batch_size:(b+1)*batch_size]\n",
    "            batch_idxs = sorted(batch_idxs)\n",
    "            X = f['S2'][batch_idxs, :,:,:]\n",
    "            Y = f['TOP_LANDCOVER'][batch_idxs, :]\n",
    "            yield np.array(X), keras.utils.np_utils.to_categorical(np.array(Y), 23)"
   ]
  },
  {
   "cell_type": "code",
   "execution_count": 8,
   "metadata": {},
   "outputs": [],
   "source": [
    "idxs = get_idxs(PATH_DATA)\n",
    "shuffled_idxs = shuffle_idx(idxs)\n",
    "train_idxs, val_idxs = split_train_val(shuffled_idxs, 0.2)"
   ]
  },
  {
   "cell_type": "code",
   "execution_count": 9,
   "metadata": {},
   "outputs": [],
   "source": [
    "train_gen = generator(PATH_DATA, BATCH_SIZE, train_idxs)\n",
    "train_batch_count = get_batch_count(train_idxs, BATCH_SIZE)\n",
    "\n",
    "val_gen = generator(PATH_DATA, BATCH_SIZE, val_idxs)\n",
    "val_batch_count = get_batch_count(val_idxs, BATCH_SIZE)"
   ]
  },
  {
   "cell_type": "code",
   "execution_count": 10,
   "metadata": {},
   "outputs": [
    {
     "name": "stdout",
     "output_type": "stream",
     "text": [
      "14958592 3739648\n"
     ]
    }
   ],
   "source": [
    "print(train_batch_count*BATCH_SIZE, val_batch_count*BATCH_SIZE)"
   ]
  },
  {
   "cell_type": "code",
   "execution_count": 11,
   "metadata": {},
   "outputs": [],
   "source": [
    "f = h5.File(PATH_DATA, 'r')\n",
    "\n",
    "Y = f['TOP_LANDCOVER']\n",
    "X = f['S2']\n"
   ]
  },
  {
   "cell_type": "code",
   "execution_count": 12,
   "metadata": {},
   "outputs": [
    {
     "name": "stdout",
     "output_type": "stream",
     "text": [
      "[ 1.  2.  3.  4.  5.  6.  9. 10. 11. 12. 13. 14. 15. 17. 18. 19. 20. 21.] [3827110 1250253 2315736  776966 2167443     633    3709 1112499  765705\n",
      " 4054392    1281  634142    3847   86471    3829 1154414  538220    1590]\n"
     ]
    },
    {
     "data": {
      "text/plain": [
       "<Container object of 18 artists>"
      ]
     },
     "execution_count": 12,
     "metadata": {},
     "output_type": "execute_result"
    },
    {
     "data": {
      "image/png": "[encoded data removed]",
      "text/plain": [
       "<matplotlib.figure.Figure at 0x7f19063e8c18>"
      ]
     },
     "metadata": {},
     "output_type": "display_data"
    }
   ],
   "source": [
    "\n",
    "unique, counts = np.unique(Y, return_counts=True)\n",
    "print(unique, counts)\n",
    "from matplotlib import pyplot as plt\n",
    "%matplotlib inline\n",
    "plt.bar(unique, counts)\n",
    "\n",
    "\n"
   ]
  },
  {
   "cell_type": "code",
   "execution_count": 13,
   "metadata": {},
   "outputs": [
    {
     "name": "stdout",
     "output_type": "stream",
     "text": [
      "[[12 21]\n",
      " [ 1 20]\n",
      " [ 3 12]\n",
      " [ 5 11]\n",
      " [ 2  6]\n",
      " [19  6]\n",
      " [10  5]\n",
      " [ 4  4]\n",
      " [11  4]\n",
      " [14  3]\n",
      " [20  2]\n",
      " [17  0]\n",
      " [15  0]\n",
      " [18  0]\n",
      " [ 9  0]\n",
      " [21  0]\n",
      " [13  0]\n",
      " [ 6  0]]\n"
     ]
    },
    {
     "data": {
      "text/plain": [
       "<Container object of 18 artists>"
      ]
     },
     "execution_count": 13,
     "metadata": {},
     "output_type": "execute_result"
    },
    {
     "data": {
      "image/png": "[encoded data removed]",
      "text/plain": [
       "<matplotlib.figure.Figure at 0x7f18fd6fe128>"
      ]
     },
     "metadata": {},
     "output_type": "display_data"
    }
   ],
   "source": [
    "import operator \n",
    "occu = np.zeros((len(counts), 2))\n",
    "occu[:, 0] = unique\n",
    "occu[: ,1] = counts\n",
    "occu = np.array(sorted(occu, key= operator.itemgetter(1,0), reverse= True))\n",
    "occu = occu.astype(int)\n",
    "occu\n",
    "Total = np.sum(occu[:, 1])\n",
    "\n",
    "occu[: ,1] = occu[: ,1]/Total*100\n",
    "print (occu)\n",
    "plt.bar(range(occu.shape[0]),occu[:, 1])"
   ]
  },
  {
   "cell_type": "code",
   "execution_count": 14,
   "metadata": {},
   "outputs": [
    {
     "name": "stdout",
     "output_type": "stream",
     "text": [
      "18\n",
      "[[12 21]\n",
      " [ 1 41]\n",
      " [ 3 53]\n",
      " [ 5 64]\n",
      " [ 2 70]\n",
      " [19 76]\n",
      " [10 81]\n",
      " [ 4 85]\n",
      " [11 89]\n",
      " [14 92]\n",
      " [20 94]\n",
      " [17 94]\n",
      " [15 94]\n",
      " [18 94]\n",
      " [ 9 94]\n",
      " [21 94]\n",
      " [13 94]\n",
      " [ 6 94]]\n"
     ]
    },
    {
     "data": {
      "text/plain": [
       "<Container object of 18 artists>"
      ]
     },
     "execution_count": 14,
     "metadata": {},
     "output_type": "execute_result"
    },
    {
     "data": {
      "image/png": "[encoded data removed]",
      "text/plain": [
       "<matplotlib.figure.Figure at 0x7f19063e89e8>"
      ]
     },
     "metadata": {},
     "output_type": "display_data"
    }
   ],
   "source": [
    "cum = np.copy(occu)\n",
    "print(occu.shape[0])\n",
    "for i in range(occu.shape[0]):\n",
    "    cum[i, 1] = np.sum(occu[:i+1, 1])\n",
    "    \n",
    "print(cum)\n",
    "plt.bar(range(occu.shape[0]),cum[:, 1])"
   ]
  },
  {
   "cell_type": "code",
   "execution_count": 15,
   "metadata": {},
   "outputs": [
    {
     "name": "stdout",
     "output_type": "stream",
     "text": [
      "[12  1  3  5  2 19 10  4 11 14 20]\n"
     ]
    }
   ],
   "source": [
    "list_99 = cum[:11, 0]\n",
    "print(list_99)"
   ]
  },
  {
   "cell_type": "code",
   "execution_count": 16,
   "metadata": {},
   "outputs": [],
   "source": [
    "nmb = len(Y)\n",
    "idxs = range(nmb) \n",
    "#shuffled_idxs = shuffle_idx(idxs)\n",
    "shuffled_idxs =idxs\n"
   ]
  },
  {
   "cell_type": "code",
   "execution_count": null,
   "metadata": {},
   "outputs": [],
   "source": []
  },
  {
   "cell_type": "code",
   "execution_count": 17,
   "metadata": {
    "scrolled": true
   },
   "outputs": [
    {
     "name": "stdout",
     "output_type": "stream",
     "text": [
      "0 \n",
      " {}\n",
      "100000 \n",
      " {}\n",
      "200000 \n",
      " {}\n",
      "300000 \n",
      " {1.0: 34732, 3.0: 18914, 12.0: 5273, 5.0: 774}\n",
      "400000 \n",
      " {1.0: 54536, 3.0: 45837, 12.0: 20925, 5.0: 1211}\n",
      "500000 \n",
      " {1.0: 64401, 3.0: 72289, 12.0: 53443, 5.0: 1483}\n",
      "600000 \n",
      " {1.0: 68850, 3.0: 100422, 12.0: 106115, 5.0: 1580}\n",
      "700000 \n",
      " {1.0: 69681, 3.0: 106095, 12.0: 119396, 5.0: 34512}\n",
      "800000 \n",
      " {1.0: 69793, 3.0: 107904, 12.0: 126098, 5.0: 100196}\n",
      "900000 \n",
      " {1.0: 69888, 3.0: 109798, 12.0: 135544, 5.0: 169399}\n",
      "1000000 \n",
      " {1.0: 69995, 3.0: 112469, 12.0: 148832, 5.0: 230549}\n",
      "1100000 \n",
      " {1.0: 70072, 3.0: 115107, 12.0: 156009, 5.0: 302799}\n",
      "1200000 \n",
      " {1.0: 70130, 3.0: 117178, 12.0: 158569, 5.0: 387768}\n",
      "1300000 \n",
      " {1.0: 70386, 3.0: 121028, 12.0: 162382, 5.0: 456518}\n",
      "1400000 \n",
      " {1.0: 74180, 3.0: 133516, 12.0: 173395, 5.0: 501052}\n",
      "1500000 \n",
      " {1.0: 79757, 3.0: 156250, 12.0: 189253, 5.0: 537753}\n",
      "1600000 \n",
      " {1.0: 86401, 3.0: 192217, 12.0: 206599, 5.0: 554592}\n",
      "1700000 \n",
      " {1.0: 94522, 3.0: 233113, 12.0: 224921, 5.0: 567632}\n",
      "1800000 \n",
      " {1.0: 98553, 3.0: 265872, 12.0: 254256, 5.0: 583959}\n",
      "1900000 \n",
      " {1.0: 105622, 3.0: 296810, 12.0: 282020, 5.0: 600000}\n",
      "2000000 \n",
      " {1.0: 108620, 3.0: 325285, 12.0: 322043, 5.0: 600000}\n",
      "2100000 \n",
      " {1.0: 109616, 3.0: 360143, 12.0: 361077, 5.0: 600000}\n",
      "2200000 \n",
      " {1.0: 109883, 3.0: 379357, 12.0: 421100, 5.0: 600000}\n",
      "2300000 \n",
      " {1.0: 110051, 3.0: 393745, 12.0: 487344, 5.0: 600000}\n",
      "2400000 \n",
      " {1.0: 110185, 3.0: 404430, 12.0: 554731, 5.0: 600000}\n",
      "2500000 \n",
      " {1.0: 110738, 3.0: 413838, 12.0: 600000, 5.0: 600000}\n",
      "2600000 \n",
      " {1.0: 130706, 3.0: 439791, 12.0: 600000, 5.0: 600000}\n",
      "2700000 \n",
      " {1.0: 149496, 3.0: 473346, 12.0: 600000, 5.0: 600000}\n",
      "2800000 \n",
      " {1.0: 176761, 3.0: 498341, 12.0: 600000, 5.0: 600000}\n",
      "2900000 \n",
      " {1.0: 201049, 3.0: 517709, 12.0: 600000, 5.0: 600000}\n",
      "3000000 \n",
      " {1.0: 215200, 3.0: 529387, 12.0: 600000, 5.0: 600000}\n",
      "3100000 \n",
      " {1.0: 215525, 3.0: 530611, 12.0: 600000, 5.0: 600000}\n",
      "3200000 \n",
      " {1.0: 215738, 3.0: 532046, 12.0: 600000, 5.0: 600000}\n",
      "3300000 \n",
      " {1.0: 215824, 3.0: 532592, 12.0: 600000, 5.0: 600000}\n",
      "3400000 \n",
      " {1.0: 215840, 3.0: 533076, 12.0: 600000, 5.0: 600000}\n",
      "3500000 \n",
      " {1.0: 215963, 3.0: 534156, 12.0: 600000, 5.0: 600000}\n",
      "3600000 \n",
      " {1.0: 216414, 3.0: 536758, 12.0: 600000, 5.0: 600000}\n",
      "3700000 \n",
      " {1.0: 218288, 3.0: 541975, 12.0: 600000, 5.0: 600000}\n",
      "3800000 \n",
      " {1.0: 224589, 3.0: 568541, 12.0: 600000, 5.0: 600000}\n",
      "3900000 \n",
      " {1.0: 225529, 3.0: 590085, 12.0: 600000, 5.0: 600000}\n",
      "4000000 \n",
      " {1.0: 241160, 3.0: 600000, 12.0: 600000, 5.0: 600000}\n",
      "4100000 \n",
      " {1.0: 253682, 3.0: 600000, 12.0: 600000, 5.0: 600000}\n",
      "4200000 \n",
      " {1.0: 261890, 3.0: 600000, 12.0: 600000, 5.0: 600000}\n",
      "4300000 \n",
      " {1.0: 296272, 3.0: 600000, 12.0: 600000, 5.0: 600000}\n",
      "4400000 \n",
      " {1.0: 349984, 3.0: 600000, 12.0: 600000, 5.0: 600000}\n",
      "4500000 \n",
      " {1.0: 417955, 3.0: 600000, 12.0: 600000, 5.0: 600000}\n",
      "4600000 \n",
      " {1.0: 508523, 3.0: 600000, 12.0: 600000, 5.0: 600000}\n",
      "4700000 \n",
      " {1.0: 564663, 3.0: 600000, 12.0: 600000, 5.0: 600000}\n",
      "4800000 \n",
      " {1.0: 564800, 3.0: 600000, 12.0: 600000, 5.0: 600000}\n",
      "4900000 \n",
      " {1.0: 565000, 3.0: 600000, 12.0: 600000, 5.0: 600000}\n",
      "5000000 \n",
      " {1.0: 565030, 3.0: 600000, 12.0: 600000, 5.0: 600000}\n",
      "5100000 \n",
      " {1.0: 571432, 3.0: 600000, 12.0: 600000, 5.0: 600000}\n",
      "5200000 \n",
      " {1.0: 588162, 3.0: 600000, 12.0: 600000, 5.0: 600000}\n",
      "5262863 here\n",
      "2863\n"
     ]
    }
   ],
   "source": [
    "np.random.seed(1)\n",
    "from collections import Counter\n",
    "import time\n",
    "from sys import stdout\n",
    "#intere = [12,  1,  3,  5,  2, 19, 10,  4, 11, 14, 20]\n",
    "intere = [12,  1,  3,  5]\n",
    "flags = [False]* len(intere)\n",
    "images = []\n",
    "label = []\n",
    "counter ={}\n",
    "seuil = 600000\n",
    "i=0\n",
    "k=0\n",
    "a=0\n",
    "while(True):\n",
    "    lab = Y[shuffled_idxs[a+i],0]\n",
    "    #print(lab)\n",
    "    if lab in intere and counter.get(lab, 0) < seuil:\n",
    "        #print(counter)\n",
    "        images.append(X[shuffled_idxs[a+i]])\n",
    "        label.append(intere.index(lab))\n",
    "        counter[lab] = counter.get(lab, 0)+1\n",
    "        if counter[lab]==seuil:\n",
    "            flags[intere.index(lab)] = True\n",
    "            #print(i)\n",
    "    \n",
    "    i=i+1\n",
    "    \n",
    "    if flags.count(True) == len(intere):\n",
    "        print(k, \"here\")\n",
    "        break\n",
    "    \n",
    "    if (k % 5000==0 and k!=0):\n",
    "        #a = a + 10000 + np.random.randint(100000)\n",
    "        a= a + 5000\n",
    "        i = 0\n",
    "    if (k % 100000==0):\n",
    "        print(a, \"\\n\", counter)\n",
    "        stdout.flush()\n",
    "    if (a == 6000000):\n",
    "        a = 12700000\n",
    "        i = 0\n",
    "    if (a+i> nmb):\n",
    "        break\n",
    "    \n",
    "    k=k+1\n",
    "    \n",
    "print(i)"
   ]
  },
  {
   "cell_type": "code",
   "execution_count": 18,
   "metadata": {},
   "outputs": [
    {
     "name": "stdout",
     "output_type": "stream",
     "text": [
      "(2400000, 16, 16, 4)\n",
      "(2400000, 1)\n",
      "{1.0: 600000, 3.0: 600000, 12.0: 600000, 5.0: 600000}\n",
      "5262863\n"
     ]
    }
   ],
   "source": [
    "images = np.array(images)\n",
    "label = np.array(label).astype(int).reshape(-1, 1)\n",
    "print(images.shape)\n",
    "print(label.shape)\n",
    "print(counter)\n",
    "print(k)"
   ]
  },
  {
   "cell_type": "code",
   "execution_count": 19,
   "metadata": {},
   "outputs": [
    {
     "name": "stdout",
     "output_type": "stream",
     "text": [
      "[[2]\n",
      " [2]\n",
      " [2]\n",
      " [2]\n",
      " [0]\n",
      " [0]\n",
      " [0]\n",
      " [0]\n",
      " [0]\n",
      " [0]\n",
      " [0]\n",
      " [0]\n",
      " [0]\n",
      " [0]\n",
      " [1]\n",
      " [2]\n",
      " [2]\n",
      " [1]\n",
      " [1]\n",
      " [2]]\n"
     ]
    }
   ],
   "source": [
    "print (label[:20])"
   ]
  },
  {
   "cell_type": "code",
   "execution_count": 20,
   "metadata": {},
   "outputs": [],
   "source": [
    "idxs = range(images.shape[0])\n",
    "shuffled_idxs = shuffle_idx(idxs)\n",
    "train_idxs, val_idxs = split_train_val(shuffled_idxs, 0.1)"
   ]
  },
  {
   "cell_type": "code",
   "execution_count": 21,
   "metadata": {},
   "outputs": [],
   "source": [
    "def generator(images, label, idxs, batch_size):\n",
    "    \n",
    "    while True : \n",
    "        idxs = shuffle_idx(shuffle_idx(shuffle_idx(idxs)))\n",
    "        rd = np.random.randint(len(idxs)-300*batch_size)\n",
    "        my_idxs = shuffle_idx(idxs[rd:rd+300*batch_size])\n",
    "        batch_count = get_batch_count(my_idxs, batch_size)\n",
    "        for b in range(batch_count):\n",
    "            batch_idxs = my_idxs[b*batch_size:(b+1)*batch_size]\n",
    "            batch_idxs = sorted(batch_idxs)\n",
    "            X = images[batch_idxs, :,:,:]\n",
    "            Y = label[batch_idxs, :]\n",
    "            yield np.array(X), keras.utils.np_utils.to_categorical(np.array(Y), len(intere) )\n",
    "            \n",
    "train_gen = generator(images, label, train_idxs,BATCH_SIZE)\n",
    "train_batch_count = get_batch_count(train_idxs, BATCH_SIZE)\n",
    "\n",
    "val_gen = generator(images, label, train_idxs, BATCH_SIZE)\n",
    "val_batch_count = get_batch_count(val_idxs, BATCH_SIZE)"
   ]
  },
  {
   "cell_type": "code",
   "execution_count": 22,
   "metadata": {},
   "outputs": [
    {
     "name": "stdout",
     "output_type": "stream",
     "text": [
      "33750 3750\n"
     ]
    }
   ],
   "source": [
    "print(train_batch_count, val_batch_count)"
   ]
  },
  {
   "cell_type": "markdown",
   "metadata": {},
   "source": [
    "# Instanciation du model"
   ]
  },
  {
   "cell_type": "code",
   "execution_count": 23,
   "metadata": {},
   "outputs": [],
   "source": [
    "input_shape = (16,16,4)"
   ]
  },
  {
   "cell_type": "code",
   "execution_count": 42,
   "metadata": {},
   "outputs": [],
   "source": [
    "from keras.models import Model\n",
    "from keras.layers import Input, Conv3D, Conv2D, Dropout, MaxPooling2D, Flatten, Activation, AveragePooling2D, concatenate, add\n",
    "\n",
    "\n",
    "inp = Input(shape = input_shape)\n",
    "\n",
    "#x1 = Conv2D(8, (3,3), padding = 'same')(inp)\n",
    "#x1 = BatchNormalization(axis=-1)(x1)\n",
    "#x1 = Activation(\"relu\")(x1)\n",
    "#x2 = Conv2D(8, (3,3), padding = 'same')(x1)\n",
    "#x2 = BatchNormalization(axis=-1)(x2)\n",
    "\n",
    "#conc0 = add([x1, x2])\n",
    "#conc0 = Activation(\"relu\")(conc0)\n",
    "\n",
    "x3 = Conv2D(16, (5,5), padding = 'same')(inp)\n",
    "x3 = BatchNormalization(axis=-1)(x3)\n",
    "x3 = Activation(\"relu\")(x3)\n",
    "x3b = Conv2D(16, (5,5), padding = 'same')(x3)\n",
    "x3b = BatchNormalization(axis=-1)(x3b)\n",
    "\n",
    "conc1 = add([x3b, x3])\n",
    "conc1 = Activation(\"relu\")(conc1)\n",
    "\n",
    "x4 = Conv2D(32, (3,3), padding = 'same')(conc1)\n",
    "x4 = BatchNormalization(axis=-1)(x4)\n",
    "x4 = Activation(\"relu\")(x4)\n",
    "x5 = Conv2D(32, (3,3), padding = 'same')(x4) \n",
    "x5 = BatchNormalization(axis=-1)(x5)\n",
    "\n",
    "conc4 = add([x4, x5])\n",
    "conc4 = Activation(\"relu\")(conc4)\n",
    "\n",
    "x6 = Conv2D(64, (3,3), padding = 'same')(conc4)\n",
    "x6 = BatchNormalization(axis=-1)(x6)\n",
    "x6 = Activation(\"relu\")(x6)\n",
    "x6b = Conv2D(64, (3,3), padding = 'same')(x6) \n",
    "x6b = BatchNormalization(axis=-1)(x6b)\n",
    "\n",
    "conc5 = add([x6, x6b])\n",
    "conc5 = Activation(\"relu\")(conc5)\n",
    "\n",
    "conc5 = MaxPooling2D(pool_size = (2,2))(conc5)\n",
    "\n",
    "# add 256\n",
    "\n",
    "out = Flatten()(conc5)\n",
    "\n",
    "\n",
    "out = Dense(512)(out)\n",
    "out = BatchNormalization()(out)\n",
    "out = Activation(\"relu\")(out)\n",
    "out = Dropout(0.2)(out)\n",
    "out = Dense(len(intere))(out)\n",
    "out = Activation('softmax')(out)\n",
    "\n",
    "model2 = Model(inp, out)\n",
    "\n",
    "optim = keras.optimizers.Adam(lr=0.0001)\n",
    "#optim = keras.optimizers.rmsprop(lr=0.001, decay=1e-6)\n",
    "\n",
    "model2.compile(optimizer=optim,\n",
    "              loss='categorical_crossentropy',\n",
    "              metrics=['accuracy'])"
   ]
  },
  {
   "cell_type": "code",
   "execution_count": 43,
   "metadata": {},
   "outputs": [
    {
     "name": "stdout",
     "output_type": "stream",
     "text": [
      "__________________________________________________________________________________________________\n",
      "Layer (type)                    Output Shape         Param #     Connected to                     \n",
      "==================================================================================================\n",
      "input_5 (InputLayer)            (None, 16, 16, 4)    0                                            \n",
      "__________________________________________________________________________________________________\n",
      "conv2d_29 (Conv2D)              (None, 16, 16, 16)   1616        input_5[0][0]                    \n",
      "__________________________________________________________________________________________________\n",
      "batch_normalization_33 (BatchNo (None, 16, 16, 16)   64          conv2d_29[0][0]                  \n",
      "__________________________________________________________________________________________________\n",
      "activation_37 (Activation)      (None, 16, 16, 16)   0           batch_normalization_33[0][0]     \n",
      "__________________________________________________________________________________________________\n",
      "conv2d_30 (Conv2D)              (None, 16, 16, 16)   6416        activation_37[0][0]              \n",
      "__________________________________________________________________________________________________\n",
      "batch_normalization_34 (BatchNo (None, 16, 16, 16)   64          conv2d_30[0][0]                  \n",
      "__________________________________________________________________________________________________\n",
      "add_15 (Add)                    (None, 16, 16, 16)   0           batch_normalization_34[0][0]     \n",
      "                                                                 activation_37[0][0]              \n",
      "__________________________________________________________________________________________________\n",
      "activation_38 (Activation)      (None, 16, 16, 16)   0           add_15[0][0]                     \n",
      "__________________________________________________________________________________________________\n",
      "conv2d_31 (Conv2D)              (None, 16, 16, 32)   4640        activation_38[0][0]              \n",
      "__________________________________________________________________________________________________\n",
      "batch_normalization_35 (BatchNo (None, 16, 16, 32)   128         conv2d_31[0][0]                  \n",
      "__________________________________________________________________________________________________\n",
      "activation_39 (Activation)      (None, 16, 16, 32)   0           batch_normalization_35[0][0]     \n",
      "__________________________________________________________________________________________________\n",
      "conv2d_32 (Conv2D)              (None, 16, 16, 32)   9248        activation_39[0][0]              \n",
      "__________________________________________________________________________________________________\n",
      "batch_normalization_36 (BatchNo (None, 16, 16, 32)   128         conv2d_32[0][0]                  \n",
      "__________________________________________________________________________________________________\n",
      "add_16 (Add)                    (None, 16, 16, 32)   0           activation_39[0][0]              \n",
      "                                                                 batch_normalization_36[0][0]     \n",
      "__________________________________________________________________________________________________\n",
      "activation_40 (Activation)      (None, 16, 16, 32)   0           add_16[0][0]                     \n",
      "__________________________________________________________________________________________________\n",
      "conv2d_33 (Conv2D)              (None, 16, 16, 64)   18496       activation_40[0][0]              \n",
      "__________________________________________________________________________________________________\n",
      "batch_normalization_37 (BatchNo (None, 16, 16, 64)   256         conv2d_33[0][0]                  \n",
      "__________________________________________________________________________________________________\n",
      "activation_41 (Activation)      (None, 16, 16, 64)   0           batch_normalization_37[0][0]     \n",
      "__________________________________________________________________________________________________\n",
      "conv2d_34 (Conv2D)              (None, 16, 16, 64)   36928       activation_41[0][0]              \n",
      "__________________________________________________________________________________________________\n",
      "batch_normalization_38 (BatchNo (None, 16, 16, 64)   256         conv2d_34[0][0]                  \n",
      "__________________________________________________________________________________________________\n",
      "add_17 (Add)                    (None, 16, 16, 64)   0           activation_41[0][0]              \n",
      "                                                                 batch_normalization_38[0][0]     \n",
      "__________________________________________________________________________________________________\n",
      "activation_42 (Activation)      (None, 16, 16, 64)   0           add_17[0][0]                     \n",
      "__________________________________________________________________________________________________\n",
      "max_pooling2d_5 (MaxPooling2D)  (None, 8, 8, 64)     0           activation_42[0][0]              \n",
      "__________________________________________________________________________________________________\n",
      "flatten_5 (Flatten)             (None, 4096)         0           max_pooling2d_5[0][0]            \n",
      "__________________________________________________________________________________________________\n",
      "dense_9 (Dense)                 (None, 512)          2097664     flatten_5[0][0]                  \n",
      "__________________________________________________________________________________________________\n",
      "batch_normalization_39 (BatchNo (None, 512)          2048        dense_9[0][0]                    \n",
      "__________________________________________________________________________________________________\n",
      "activation_43 (Activation)      (None, 512)          0           batch_normalization_39[0][0]     \n",
      "__________________________________________________________________________________________________\n",
      "dropout_5 (Dropout)             (None, 512)          0           activation_43[0][0]              \n",
      "__________________________________________________________________________________________________\n",
      "dense_10 (Dense)                (None, 4)            2052        dropout_5[0][0]                  \n",
      "__________________________________________________________________________________________________\n",
      "activation_44 (Activation)      (None, 4)            0           dense_10[0][0]                   \n",
      "==================================================================================================\n",
      "Total params: 2,180,004\n",
      "Trainable params: 2,178,532\n",
      "Non-trainable params: 1,472\n",
      "__________________________________________________________________________________________________\n"
     ]
    }
   ],
   "source": [
    "model2.summary()"
   ]
  },
  {
   "cell_type": "code",
   "execution_count": 44,
   "metadata": {},
   "outputs": [],
   "source": [
    "from keras.callbacks import EarlyStopping\n",
    "cback = EarlyStopping(monitor ='loss', patience = 3, mode = 'min')"
   ]
  },
  {
   "cell_type": "markdown",
   "metadata": {},
   "source": [
    "# Fit"
   ]
  },
  {
   "cell_type": "code",
   "execution_count": 46,
   "metadata": {
    "scrolled": false
   },
   "outputs": [
    {
     "name": "stdout",
     "output_type": "stream",
     "text": [
      "Epoch 1/150\n",
      "  3/200 [..............................] - ETA: 8s - loss: 0.8684 - acc: 0.6302"
     ]
    },
    {
     "name": "stderr",
     "output_type": "stream",
     "text": [
      "/usr/local/lib/python3.5/dist-packages/ipykernel_launcher.py:1: UserWarning: The semantics of the Keras 2 argument `steps_per_epoch` is not the same as the Keras 1 argument `samples_per_epoch`. `steps_per_epoch` is the number of batches to draw from the generator at each epoch. Basically steps_per_epoch = samples_per_epoch/batch_size. Similarly `nb_val_samples`->`validation_steps` and `val_samples`->`steps` arguments have changed. Update your method calls accordingly.\n",
      "  \"\"\"Entry point for launching an IPython kernel.\n",
      "/usr/local/lib/python3.5/dist-packages/ipykernel_launcher.py:1: UserWarning: Update your `fit_generator` call to the Keras 2 API: `fit_generator(<generator..., steps_per_epoch=200, validation_steps=150, verbose=1, callbacks=[<keras.ca..., validation_data=<generator..., epochs=150)`\n",
      "  \"\"\"Entry point for launching an IPython kernel.\n"
     ]
    },
    {
     "name": "stdout",
     "output_type": "stream",
     "text": [
      "200/200 [==============================] - 8s 42ms/step - loss: 0.8436 - acc: 0.6431 - val_loss: 0.8256 - val_acc: 0.6494\n",
      "Epoch 2/150\n",
      "200/200 [==============================] - 8s 41ms/step - loss: 0.8485 - acc: 0.6384 - val_loss: 0.8361 - val_acc: 0.6490\n",
      "Epoch 3/150\n",
      "200/200 [==============================] - 9s 46ms/step - loss: 0.8506 - acc: 0.6389 - val_loss: 0.8226 - val_acc: 0.6465\n",
      "Epoch 4/150\n",
      "200/200 [==============================] - 7s 36ms/step - loss: 0.8352 - acc: 0.6455 - val_loss: 0.8338 - val_acc: 0.6438\n",
      "Epoch 5/150\n",
      "200/200 [==============================] - 9s 46ms/step - loss: 0.8478 - acc: 0.6362 - val_loss: 0.8163 - val_acc: 0.6538\n",
      "Epoch 6/150\n",
      "200/200 [==============================] - 9s 46ms/step - loss: 0.8472 - acc: 0.6413 - val_loss: 0.8823 - val_acc: 0.6197\n",
      "Epoch 7/150\n",
      "200/200 [==============================] - 7s 36ms/step - loss: 0.8463 - acc: 0.6423 - val_loss: 0.9496 - val_acc: 0.5778\n"
     ]
    }
   ],
   "source": [
    "history = model2.fit_generator(train_gen, steps_per_epoch=200, epochs=150, verbose=1, validation_data=val_gen,callbacks =[cback], nb_val_samples=150)"
   ]
  },
  {
   "cell_type": "code",
   "execution_count": 12,
   "metadata": {},
   "outputs": [
    {
     "name": "stdout",
     "output_type": "stream",
     "text": [
      "__________________________________________________________________________________________________\n",
      "Layer (type)                    Output Shape         Param #     Connected to                     \n",
      "==================================================================================================\n",
      "input_1 (InputLayer)            (None, 16, 16, 4)    0                                            \n",
      "__________________________________________________________________________________________________\n",
      "conv2d_1 (Conv2D)               (None, 16, 16, 16)   592         input_1[0][0]                    \n",
      "__________________________________________________________________________________________________\n",
      "batch_normalization_1 (BatchNor (None, 16, 16, 16)   64          conv2d_1[0][0]                   \n",
      "__________________________________________________________________________________________________\n",
      "activation_1 (Activation)       (None, 16, 16, 16)   0           batch_normalization_1[0][0]      \n",
      "__________________________________________________________________________________________________\n",
      "conv2d_2 (Conv2D)               (None, 16, 16, 16)   2320        activation_1[0][0]               \n",
      "__________________________________________________________________________________________________\n",
      "batch_normalization_2 (BatchNor (None, 16, 16, 16)   64          conv2d_2[0][0]                   \n",
      "__________________________________________________________________________________________________\n",
      "add_1 (Add)                     (None, 16, 16, 16)   0           batch_normalization_2[0][0]      \n",
      "                                                                 activation_1[0][0]               \n",
      "__________________________________________________________________________________________________\n",
      "activation_2 (Activation)       (None, 16, 16, 16)   0           add_1[0][0]                      \n",
      "__________________________________________________________________________________________________\n",
      "conv2d_3 (Conv2D)               (None, 16, 16, 32)   4640        activation_2[0][0]               \n",
      "__________________________________________________________________________________________________\n",
      "batch_normalization_3 (BatchNor (None, 16, 16, 32)   128         conv2d_3[0][0]                   \n",
      "__________________________________________________________________________________________________\n",
      "activation_3 (Activation)       (None, 16, 16, 32)   0           batch_normalization_3[0][0]      \n",
      "__________________________________________________________________________________________________\n",
      "conv2d_4 (Conv2D)               (None, 16, 16, 32)   9248        activation_3[0][0]               \n",
      "__________________________________________________________________________________________________\n",
      "batch_normalization_4 (BatchNor (None, 16, 16, 32)   128         conv2d_4[0][0]                   \n",
      "__________________________________________________________________________________________________\n",
      "add_2 (Add)                     (None, 16, 16, 32)   0           activation_3[0][0]               \n",
      "                                                                 batch_normalization_4[0][0]      \n",
      "__________________________________________________________________________________________________\n",
      "activation_4 (Activation)       (None, 16, 16, 32)   0           add_2[0][0]                      \n",
      "__________________________________________________________________________________________________\n",
      "conv2d_5 (Conv2D)               (None, 16, 16, 64)   18496       activation_4[0][0]               \n",
      "__________________________________________________________________________________________________\n",
      "batch_normalization_5 (BatchNor (None, 16, 16, 64)   256         conv2d_5[0][0]                   \n",
      "__________________________________________________________________________________________________\n",
      "activation_5 (Activation)       (None, 16, 16, 64)   0           batch_normalization_5[0][0]      \n",
      "__________________________________________________________________________________________________\n",
      "conv2d_6 (Conv2D)               (None, 16, 16, 64)   36928       activation_5[0][0]               \n",
      "__________________________________________________________________________________________________\n",
      "batch_normalization_6 (BatchNor (None, 16, 16, 64)   256         conv2d_6[0][0]                   \n",
      "__________________________________________________________________________________________________\n",
      "add_3 (Add)                     (None, 16, 16, 64)   0           activation_5[0][0]               \n",
      "                                                                 batch_normalization_6[0][0]      \n",
      "__________________________________________________________________________________________________\n",
      "activation_6 (Activation)       (None, 16, 16, 64)   0           add_3[0][0]                      \n",
      "__________________________________________________________________________________________________\n",
      "max_pooling2d_1 (MaxPooling2D)  (None, 8, 8, 64)     0           activation_6[0][0]               \n",
      "__________________________________________________________________________________________________\n",
      "flatten_1 (Flatten)             (None, 4096)         0           max_pooling2d_1[0][0]            \n",
      "__________________________________________________________________________________________________\n",
      "dense_1 (Dense)                 (None, 256)          1048832     flatten_1[0][0]                  \n",
      "__________________________________________________________________________________________________\n",
      "batch_normalization_7 (BatchNor (None, 256)          1024        dense_1[0][0]                    \n",
      "__________________________________________________________________________________________________\n",
      "activation_7 (Activation)       (None, 256)          0           batch_normalization_7[0][0]      \n",
      "__________________________________________________________________________________________________\n",
      "dropout_1 (Dropout)             (None, 256)          0           activation_7[0][0]               \n",
      "__________________________________________________________________________________________________\n",
      "dense_2 (Dense)                 (None, 23)           5911        dropout_1[0][0]                  \n",
      "__________________________________________________________________________________________________\n",
      "activation_8 (Activation)       (None, 23)           0           dense_2[0][0]                    \n",
      "==================================================================================================\n",
      "Total params: 1,128,887\n",
      "Trainable params: 1,127,927\n",
      "Non-trainable params: 960\n",
      "__________________________________________________________________________________________________\n"
     ]
    }
   ],
   "source": [
    "\n",
    "from keras.callbacks import EarlyStopping\n",
    "cback = EarlyStopping(monitor ='loss', patience = 2, mode = 'min')\n",
    "from keras.models import load_model\n",
    "model = load_model(\"../postultimate_model.dqf\")\n",
    "\n",
    "model.summary()"
   ]
  },
  {
   "cell_type": "code",
   "execution_count": 34,
   "metadata": {},
   "outputs": [],
   "source": [
    "model2.save(\"../postultimate_model_bfm_7.dqf\")"
   ]
  },
  {
   "cell_type": "markdown",
   "metadata": {},
   "source": [
    "## Prediction routines\n",
    "\n",
    "In order to submit a result here are some gits"
   ]
  },
  {
   "cell_type": "code",
   "execution_count": 52,
   "metadata": {},
   "outputs": [],
   "source": [
    "import os \n",
    "def prediction_generator(h5_path, batch_size, idxs):\n",
    "    f = h5.File(h5_path, 'r')\n",
    "\n",
    "    batch_count = get_batch_count(idxs, batch_size)\n",
    "    \n",
    "    for b in range(batch_count):\n",
    "        batch_idxs = idxs[b*batch_size:(b+1)*batch_size]\n",
    "        batch_idxs = sorted(batch_idxs)\n",
    "        X = f['S2'][batch_idxs, :,:,:]\n",
    "        yield np.array(X)\n",
    "\n",
    "def build_h5_pred_file(pred, h5_output_path):\n",
    "    if os.path.exists(h5_output_path):\n",
    "        os.remove(h5_output_path)\n",
    "    f = h5.File(h5_output_path, 'w')\n",
    "    top_landcover_submit = f.create_dataset(\"TOP_LANDCOVER\", (len(pred), 1), maxshape=(None, 1))\n",
    "    top_landcover_submit[:, 0] = pred\n",
    "    f.close()\n",
    "    \n",
    "    return 1"
   ]
  },
  {
   "cell_type": "code",
   "execution_count": 53,
   "metadata": {},
   "outputs": [],
   "source": [
    "from keras.models import load_model\n",
    "#model = load_model(\"../postultimate_model.dqf\")\n",
    "model = model2"
   ]
  },
  {
   "cell_type": "code",
   "execution_count": 54,
   "metadata": {},
   "outputs": [
    {
     "name": "stdout",
     "output_type": "stream",
     "text": [
      "241700\n",
      "1889/1889 [==============================] - 22s 12ms/step\n",
      "241700\n"
     ]
    },
    {
     "data": {
      "text/plain": [
       "1"
      ]
     },
     "execution_count": 54,
     "metadata": {},
     "output_type": "execute_result"
    }
   ],
   "source": [
    "\n",
    "pred_idx = get_idxs(PATH_PREDICT_WITHOUT_GT)\n",
    "print(len(pred_idx))\n",
    "pred_gen = prediction_generator(PATH_PREDICT_WITHOUT_GT, BATCH_SIZE, pred_idx)\n",
    "prediction = model.predict_generator(pred_gen, steps=get_batch_count(pred_idx, BATCH_SIZE), verbose=1)\n",
    "print(len(prediction))\n",
    "build_h5_pred_file(np.argmax(prediction, axis = 1), PATH_SUBMIT)"
   ]
  },
  {
   "cell_type": "markdown",
   "metadata": {},
   "source": [
    "## Some ideas for monitoring"
   ]
  },
  {
   "cell_type": "code",
   "execution_count": 58,
   "metadata": {},
   "outputs": [
    {
     "name": "stdout",
     "output_type": "stream",
     "text": [
      "[0 2 1 ... 5 5 5]\n",
      "[12  3  1 ... 19 19 19]\n"
     ]
    }
   ],
   "source": [
    "import pandas as pd\n",
    "y_pred = np.argmax(prediction, axis = 1)\n",
    "print(y_pred)\n",
    "for i in range(y_pred.shape[0]):\n",
    "    y_pred[i] = intere[y_pred[i]]\n",
    "print(y_pred)"
   ]
  },
  {
   "cell_type": "code",
   "execution_count": 59,
   "metadata": {},
   "outputs": [],
   "source": [
    "\n",
    "PATH_SUBMIT1 = \"result_bfm_8.csv\"\n",
    "df2 = pd.DataFrame(y_pred, columns=['TOP_LANDCOVER'])\n",
    "df2.to_csv(PATH_SUBMIT1, index_label=\"ID\")"
   ]
  },
  {
   "cell_type": "code",
   "execution_count": 11,
   "metadata": {
    "scrolled": true
   },
   "outputs": [],
   "source": [
    "from keras.models import Model\n",
    "from keras.layers import Input, Conv3D, Conv2D, Dropout, MaxPooling2D, Flatten, Activation, AveragePooling2D, concatenate, add\n",
    "\n",
    "\n",
    "inp = Input(shape = input_shape)\n",
    "\n",
    "#x1 = Conv2D(16, (3,3), padding = 'same')(inp)\n",
    "#x1 = BatchNormalization(axis=-1)(x1)\n",
    "#x1 = Activation(\"relu\")(x1)\n",
    "#x2 = Conv2D(16, (3,3), padding = 'same')(x1)\n",
    "#x2 = BatchNormalization(axis=-1)(x2)\n",
    "\n",
    "#conc0 = add([x1, x2])\n",
    "#conc0 = Activation(\"relu\")(conc0)\n",
    "\n",
    "x3 = Conv2D(16, (3,3), padding = 'same')(inp)\n",
    "x3 = BatchNormalization(axis=-1)(x3)\n",
    "x3 = Activation(\"relu\")(x3)\n",
    "x3b = Conv2D(16, (3,3), padding = 'same')(x3)\n",
    "x3b = BatchNormalization(axis=-1)(x3b)\n",
    "\n",
    "\n",
    "\n",
    "conc1 = add([x3b, x3])\n",
    "conc1 = Activation(\"relu\")(conc1)\n",
    "\n",
    "x4 = Conv2D(32, (3,3), padding = 'same')(conc1)\n",
    "x4 = BatchNormalization(axis=-1)(x4)\n",
    "x4 = Activation(\"relu\")(x4)\n",
    "x5 = Conv2D(32, (3,3), padding = 'same')(x4) \n",
    "x5 = BatchNormalization(axis=-1)(x5)\n",
    "\n",
    "conc4 = add([x4, x5])\n",
    "conc4 = Activation(\"relu\")(conc4)\n",
    "\n",
    "x6 = Conv2D(64, (3,3), padding = 'same')(conc4)\n",
    "x6 = BatchNormalization(axis=-1)(x6)\n",
    "x6 = Activation(\"relu\")(x6)\n",
    "x6b = Conv2D(64, (3,3), padding = 'same')(x6) \n",
    "x6b = BatchNormalization(axis=-1)(x6b)\n",
    "\n",
    "conc5 = add([x6, x6b])\n",
    "conc5 = Activation(\"relu\")(conc5)\n",
    "\n",
    "conc5 = MaxPooling2D(pool_size = (2,2))(conc5)\n",
    "\n",
    "# add 256\n",
    "\n",
    "out = Flatten()(conc5)\n",
    "\n",
    "\n",
    "out = Dense(256)(out)\n",
    "out = BatchNormalization()(out)\n",
    "out = Activation(\"relu\")(out)\n",
    "out = Dropout(0.2)(out)\n",
    "out = Dense(23)(out)\n",
    "out = Activation('softmax')(out)\n",
    "\n",
    "model2 = Model(inp, out)\n",
    "\n",
    "optim = keras.optimizers.Adam(lr=0.0001)\n",
    "#optim = keras.optimizers.rmsprop(lr=0.001, decay=1e-6)\n",
    "\n",
    "model2.compile(optimizer=optim,\n",
    "              loss='categorical_crossentropy',\n",
    "              metrics=['accuracy'])"
   ]
  },
  {
   "cell_type": "code",
   "execution_count": null,
   "metadata": {},
   "outputs": [],
   "source": []
  }
 ],
 "metadata": {
  "kernelspec": {
   "display_name": "Python 3",
   "language": "python",
   "name": "python3"
  },
  "language_info": {
   "codemirror_mode": {
    "name": "ipython",
    "version": 3
   },
   "file_extension": ".py",
   "mimetype": "text/x-python",
   "name": "python",
   "nbconvert_exporter": "python",
   "pygments_lexer": "ipython3",
   "version": "3.5.2"
  },
  "widgets": {
   "state": {},
   "version": "1.1.2"
  }
 },
 "nbformat": 4,
 "nbformat_minor": 2
}
